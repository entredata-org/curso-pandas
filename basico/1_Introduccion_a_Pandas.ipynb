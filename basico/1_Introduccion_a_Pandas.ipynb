{
 "cells": [
  {
   "cell_type": "markdown",
   "metadata": {},
   "source": [
    "# 1. Introducción a Pandas\n",
    "\n",
    "* [1.1. ¿Qué es Pandas?](basico/1_Introduccion_a_Pandas.ipynb#1.1-¿Qué-es-Pandas?)\n",
    "* [1.2. Ventajas de utilizar Pandas en el análisis de datos](basico/1_Introduccion_a_Pandas.ipynb#1.2-Ventajas-de-utilizar-Pandas-en-el-análisis-de-datos)\n",
    "* [1.3. Instalación de Pandas](basico/1_Introduccion_a_Pandas.ipynb#1.3-Instalación-de-Pandas)"
   ]
  },
  {
   "cell_type": "markdown",
   "metadata": {},
   "source": [
    "## 1.1 ¿Qué es Pandas?\n",
    "\n",
    "Pandas es una biblioteca de Python muy utilizada en el campo de ciencia de datos y análisis de datos. Fue desarrollada por Wes McKinney en 2008, y desde entonces se ha convertido en una de las bibliotecas de Python más populares para el análisis de datos. Desde el 2015 pandas es un proyecto patrocinado por la organización sin fines de lucro [NumFOCUS](https://numfocus.org/).\n",
    "\n",
    "Pandas se define a sí mismo como: \"pandas es una herramienta de manipulación y análisis de datos de código abierto rápida, potente, flexible y fácil de usar,\n",
    "construida sobre el lenguaje de programación Python\".\n",
    "\n",
    "Pandas proporciona dos estructuras de datos principales: Series y DataFrames. Estas estructuras de datos son muy similares a las tablas de bases de datos relacionales, y son muy útiles para el análisis de datos.\n",
    "\n",
    "* **Series:**, Es una estructura de datos unidimencional que puede contener cualquier tipo de datos (enteros, cadenas, flotantes, objetos de Python, etc.). Cada elemento de la serie tiene un índice asociado, que por defecto es un número entero que comienza en cero y aumenta en uno para cada elemento de la serie.\n",
    "\n",
    "* **DataFrames:** Es una estructura de datos bidimensional que puede contener cualquier tipo de datos (enteros, cadenas, flotantes, objetos de Python, etc.). Cada fila y columna de un DataFrame tiene un índice asociado, que por defecto es un número entero que comienza en cero y aumenta en uno para cada fila o columna del DataFrame. Un DataFrame es muy similar a una tabla de una base de datos relacional o a un excel.\n",
    "\n"
   ]
  },
  {
   "cell_type": "markdown",
   "metadata": {},
   "source": [
    "## 1.2 Ventajas de utilizar Pandas en el análisis de datos\n",
    "\n",
    "Pandas ofrece muchas ventajas para trabajar con datos, entre las cuales se pueden mencionar:\n",
    "\n",
    "* **Gratuito y de código abierto:** Pandas es un proyecto de código abierto, que tiene una gran comunidad de desarrolladores y usuarios que contribuyen a su desarrollo y mejora. por lo que es una herramienta que avanza constantemente y se mantiene actualizada y lo puedes utilizar de manera gratuita en cualquier proyecto que tengas.\n",
    "\n",
    "* **Facilidad de uso:** Pandas proporciona una sintaxis claro y simple de utilizar. Los nombres de sus funciones están diseñados de manera intuitiva, lo que hace que trabajar con datos sea muy fácil y legible.\n",
    "\n",
    "* **Eficacia:** Pandas está altamente optimizado, lo que le permite procesar grandes conjuntos de datos de manera eficiente. Esto es especialmente importante cuando se trabaja con conjuntos de datos grandes, ya que permite reducir el tiempo de procesamiento de los datos.\n",
    "\n",
    "* **Limpieza y transformación de datos:** Pandas proporciona un gran abanico de funciones para limpiar y transformar datos, lo que permite realizar estas tareas de manera rápida y eficiente.\n",
    "\n",
    "* **Flexibilidad:** con pandas puedes realizar cualquier tipo de operación con los datos, desde operaciones simples como filtrar y seleccionar datos, hasta operaciones más complejas como agrupar y resumir datos, es muy flexible y se puede adaptar a cualquier necesidad que tengas.\n",
    "\n",
    "* **Integración con otras librerías:** Pandas se integra perfectamente con otras librerías de Python, como NumPy, Matplotlib, Scikit-learn, etc. Esto permite realizar análisis de datos más complejos y avanzados."
   ]
  }
 ],
 "metadata": {
  "kernelspec": {
   "display_name": "Python 3",
   "language": "python",
   "name": "python3"
  },
  "language_info": {
   "codemirror_mode": {
    "name": "ipython",
    "version": 3
   },
   "file_extension": ".py",
   "mimetype": "text/x-python",
   "name": "python",
   "nbconvert_exporter": "python",
   "pygments_lexer": "ipython3",
   "version": "3.11.3"
  },
  "orig_nbformat": 4
 },
 "nbformat": 4,
 "nbformat_minor": 2
}
